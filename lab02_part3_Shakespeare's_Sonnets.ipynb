{
  "nbformat": 4,
  "nbformat_minor": 0,
  "metadata": {
    "colab": {
      "provenance": [],
      "authorship_tag": "ABX9TyONmEeKXpYiOep6m+xLuXPT",
      "include_colab_link": true
    },
    "kernelspec": {
      "name": "python3",
      "display_name": "Python 3"
    },
    "language_info": {
      "name": "python"
    }
  },
  "cells": [
    {
      "cell_type": "markdown",
      "metadata": {
        "id": "view-in-github",
        "colab_type": "text"
      },
      "source": [
        "<a href=\"https://colab.research.google.com/github/henterm/linked-blog-starter-md/blob/main/lab02_part3_Shakespeare's_Sonnets.ipynb\" target=\"_parent\"><img src=\"https://colab.research.google.com/assets/colab-badge.svg\" alt=\"Open In Colab\"/></a>"
      ]
    },
    {
      "cell_type": "markdown",
      "source": [
        "Text generation can be designed in several steps:\n",
        "\n",
        "\n",
        "*   Data loading.\n",
        "*   Dictionary generation.\n",
        "*   Data preprocessing.\n",
        "*   Model (neural network) training.\n",
        "*   Text generation (model evaluation).\n"
      ],
      "metadata": {
        "id": "Nuc8rwa37utO"
      }
    },
    {
      "cell_type": "code",
      "execution_count": null,
      "metadata": {
        "id": "hPwUqs8Gw2Hh"
      },
      "outputs": [],
      "source": [
        "import string\n",
        "import os"
      ]
    },
    {
      "cell_type": "markdown",
      "source": [
        "# Загрузка Шекспирских сонет:\n",
        "(взято из соответствующего репозитория GitHub)"
      ],
      "metadata": {
        "id": "fJl9_Ed3_Pbe"
      }
    },
    {
      "cell_type": "markdown",
      "source": [
        "**Код выполняет следующие действия:**\n",
        "\n",
        "Проверяет наличие файла sonnets.txt:\n",
        "\n",
        "Если файл не найден в текущей директории, загружает его с указанного URL с помощью команды wget.\n",
        "Открывает файл sonnets.txt:\n",
        "\n",
        "Читает содержимое файла и сохраняет строки в переменной text.\n",
        "Выбирает нужный диапазон строк:\n",
        "\n",
        "Начинает с 45-й строки и заканчивает 368 строками до конца, сохраняя результат в переменной text.\n",
        "Проверяет количество строк:\n",
        "\n",
        "Утверждает, что после обрезки количество строк должно быть равно 2616."
      ],
      "metadata": {
        "id": "AambdlOp_yLe"
      }
    },
    {
      "cell_type": "code",
      "source": [
        "# Если файла 'sonnets.txt' нет, загрузить его по URL\n",
        "if not os.path.exists('sonnets.txt'):\n",
        "    !wget https://raw.githubusercontent.com/girafe-ai/ml-course/22f_basic/homeworks/lab02_deep_learning/sonnets.txt\n",
        "\n",
        "# Открыть файл и прочитать его содержимое построчно\n",
        "with open('sonnets.txt', 'r') as iofile:\n",
        "    text = iofile.readlines()\n",
        "\n",
        "# Установить начальную и конечную точки текста\n",
        "TEXT_START = 45\n",
        "TEXT_END = -368\n",
        "\n",
        "# Извлечь нужный диапазон строк\n",
        "text = text[TEXT_START : TEXT_END]\n",
        "\n",
        "# Убедиться, что количество строк после обрезки равно 2616\n",
        "assert len(text) == 2616\n"
      ],
      "metadata": {
        "colab": {
          "base_uri": "https://localhost:8080/"
        },
        "id": "Q259eEkp_3lY",
        "outputId": "fa549588-794b-41c6-a23b-1fa8c46970d3"
      },
      "execution_count": null,
      "outputs": [
        {
          "output_type": "stream",
          "name": "stdout",
          "text": [
            "--2024-05-16 17:26:14--  https://raw.githubusercontent.com/girafe-ai/ml-course/22f_basic/homeworks/lab02_deep_learning/sonnets.txt\n",
            "Resolving raw.githubusercontent.com (raw.githubusercontent.com)... 185.199.108.133, 185.199.109.133, 185.199.110.133, ...\n",
            "Connecting to raw.githubusercontent.com (raw.githubusercontent.com)|185.199.108.133|:443... connected.\n",
            "HTTP request sent, awaiting response... 200 OK\n",
            "Length: 119748 (117K) [text/plain]\n",
            "Saving to: ‘sonnets.txt’\n",
            "\n",
            "\rsonnets.txt           0%[                    ]       0  --.-KB/s               \rsonnets.txt         100%[===================>] 116.94K  --.-KB/s    in 0.02s   \n",
            "\n",
            "2024-05-16 17:26:14 (7.11 MB/s) - ‘sonnets.txt’ saved [119748/119748]\n",
            "\n"
          ]
        }
      ]
    },
    {
      "cell_type": "markdown",
      "source": [
        "Этот код сначала объединяет все строки из списка text в одну строку с помощью метода join, затем преобразует полученную строку к нижнему регистру с помощью метода lower()."
      ],
      "metadata": {
        "id": "VV1EyRNfArQc"
      }
    },
    {
      "cell_type": "code",
      "source": [
        "# Объединяем все строки в одну и приводим к нижнему регистру\n",
        "text = ''.join(text).lower()\n",
        "\n",
        "# Проверяем утверждения\n",
        "assert len(text) == 100225, 'Are you sure you have concatenated all the strings?'\n",
        "assert not any([x in set(text) for x in string.ascii_uppercase]), 'Uppercase letters are present'\n",
        "print('OK!')\n"
      ],
      "metadata": {
        "colab": {
          "base_uri": "https://localhost:8080/"
        },
        "id": "0EDlTIngArl4",
        "outputId": "f67a07da-c619-4a9f-9cc5-e33e5235e15a"
      },
      "execution_count": null,
      "outputs": [
        {
          "output_type": "stream",
          "name": "stdout",
          "text": [
            "OK!\n"
          ]
        }
      ]
    },
    {
      "cell_type": "markdown",
      "source": [
        "#**RNN**"
      ],
      "metadata": {
        "id": "ezch-TpbRhJH"
      }
    },
    {
      "cell_type": "code",
      "source": [
        "import torch\n",
        "import torch.nn as nn\n",
        "import torch.optim as optim\n",
        "import torch.nn.functional as F\n",
        "import numpy as np\n",
        "import matplotlib.pyplot as plt"
      ],
      "metadata": {
        "id": "cGZa0kZXRhrW"
      },
      "execution_count": null,
      "outputs": []
    },
    {
      "cell_type": "markdown",
      "source": [
        "## Определение модели RNN\n",
        "\n",
        "*   Класс CharRNN наследует nn.Module и содержит в себе реализацию RNN модели. Он принимает на вход размер словаря (vocab_size), размерность эмбеддингов (embedding_dim), размер скрытого состояния (hidden_dim) и количество слоев RNN (n_layers).\n",
        "*   В конструкторе модели определены слои: эмбеддинги (self.embedding), рекуррентные слои (self.rnn), полносвязанный слой (self.fc) и dropout (self.dropout).\n",
        "*   Метод forward выполняет проход данных через модель. Он принимает входные данные x и скрытое состояние hidden. Сначала применяется слой эмбеддингов, затем данные передаются через рекуррентные слои, после чего применяется dropout и полносвязный слой. Возвращается выход модели out и новое скрытое состояние hidden.\n",
        "*   Метод initial_state используется для инициализации начального скрытого состояния модели.\n",
        "\n",
        "##Подготовка данных и обучение\n",
        "\n",
        "*   vocab, vocab_size, char_to_id и id_to_char используются для создания словаря и кодирования текста.\n",
        "*   encoded_text содержит закодированный текст.\n",
        "*   get_batches используется для генерации батчей данных для обучения.\n",
        "*   Обучение модели выполняется в цикле по эпохам. В каждой эпохе данные разбиваются на батчи, обнуляется градиент, вычисляется предсказание модели, вычисляется функция потерь и обновляются веса модели с помощью оптимизатора.\n",
        "В конце каждой эпохи выводится значение функции потерь."
      ],
      "metadata": {
        "id": "5TREjl6sfBfU"
      }
    },
    {
      "cell_type": "code",
      "source": [
        "class CharRNN(nn.Module):\n",
        "    def __init__(self, vocab_size, embedding_dim, hidden_dim, n_layers=1):\n",
        "        super(CharRNN, self).__init__()\n",
        "        self.hidden_dim = hidden_dim\n",
        "        self.n_layers = n_layers\n",
        "\n",
        "        self.embedding = nn.Embedding(vocab_size, embedding_dim)\n",
        "        self.rnn = nn.RNN(embedding_dim, hidden_dim, n_layers, batch_first=True)\n",
        "        self.fc = nn.Linear(hidden_dim, vocab_size)\n",
        "        self.dropout = nn.Dropout(p=0.5)\n",
        "\n",
        "    def forward(self, x, hidden):\n",
        "        x = self.embedding(x)\n",
        "        x, hidden = self.rnn(x, hidden)\n",
        "        x = self.dropout(x)\n",
        "        out = self.fc(x)\n",
        "        return out, hidden\n",
        "\n",
        "    def initial_state(self, batch_size):\n",
        "        return torch.zeros(self.n_layers, batch_size, self.hidden_dim)\n",
        "\n",
        "# Параметры модели\n",
        "vocab = sorted(set(text))\n",
        "vocab_size = len(vocab)\n",
        "embedding_dim = 64\n",
        "hidden_dim = 128\n",
        "n_layers = 1\n",
        "\n",
        "# Создание модели\n",
        "model = CharRNN(vocab_size, embedding_dim, hidden_dim, n_layers)\n",
        "optimizer = optim.Adam(model.parameters(), lr=0.005)\n",
        "criterion = nn.CrossEntropyLoss()\n",
        "\n",
        "# Подготовка данных\n",
        "char_to_id = {char: idx for idx, char in enumerate(vocab)}\n",
        "id_to_char = {idx: char for idx, char in enumerate(vocab)}\n",
        "encoded_text = np.array([char_to_id[char] for char in text])\n",
        "\n",
        "# Параметры обучения\n",
        "SEQ_LENGTH = 50\n",
        "BATCH_SIZE = 32\n",
        "EPOCHS = 25\n",
        "\n",
        "# Генерация батчей\n",
        "def get_batches(encoded, batch_size, seq_length):\n",
        "    total_length = len(encoded) // (batch_size * seq_length)\n",
        "    encoded = encoded[:total_length * batch_size * seq_length]\n",
        "    encoded = encoded.reshape((batch_size, -1))\n",
        "    for i in range(0, encoded.shape[1], seq_length):\n",
        "        x = encoded[:, i:i+seq_length]\n",
        "        y = np.zeros_like(x)\n",
        "        y[:, :-1], y[:, -1] = x[:, 1:], x[:, 0]\n",
        "        yield torch.tensor(x, dtype=torch.long), torch.tensor(y, dtype=torch.long)\n",
        "\n",
        "# Обучение модели\n",
        "losses = []\n",
        "for epoch in range(EPOCHS):\n",
        "    state = model.initial_state(BATCH_SIZE)\n",
        "    for x, y in get_batches(encoded_text, BATCH_SIZE, SEQ_LENGTH):\n",
        "        optimizer.zero_grad()\n",
        "        y_pred, state = model(x, state)\n",
        "        loss = criterion(y_pred.transpose(1, 2), y)\n",
        "        state = state.detach()\n",
        "        loss.backward()\n",
        "        optimizer.step()\n",
        "        losses.append(loss.item())\n",
        "    print(f'Epoch {epoch+1}/{EPOCHS}, Loss: {loss.item()}')\n",
        "\n",
        "# Построение графика функции потерь\n",
        "plt.plot(losses)\n",
        "plt.xlabel('Iterations')\n",
        "plt.ylabel('Loss')\n",
        "plt.show()\n"
      ],
      "metadata": {
        "colab": {
          "base_uri": "https://localhost:8080/",
          "height": 888
        },
        "id": "da4W1yjvRow2",
        "outputId": "5bfd6fa2-c4e0-4977-ad02-765a1fd913c4"
      },
      "execution_count": null,
      "outputs": [
        {
          "output_type": "stream",
          "name": "stdout",
          "text": [
            "Epoch 1/25, Loss: 2.1676952838897705\n",
            "Epoch 2/25, Loss: 2.0734095573425293\n",
            "Epoch 3/25, Loss: 2.034618854522705\n",
            "Epoch 4/25, Loss: 1.9854021072387695\n",
            "Epoch 5/25, Loss: 1.9813047647476196\n",
            "Epoch 6/25, Loss: 1.9272326231002808\n",
            "Epoch 7/25, Loss: 1.9255149364471436\n",
            "Epoch 8/25, Loss: 1.9175587892532349\n",
            "Epoch 9/25, Loss: 1.9000779390335083\n",
            "Epoch 10/25, Loss: 1.8912004232406616\n",
            "Epoch 11/25, Loss: 1.8770020008087158\n",
            "Epoch 12/25, Loss: 1.8914227485656738\n",
            "Epoch 13/25, Loss: 1.896440863609314\n",
            "Epoch 14/25, Loss: 1.858721137046814\n",
            "Epoch 15/25, Loss: 1.8677562475204468\n",
            "Epoch 16/25, Loss: 1.884931206703186\n",
            "Epoch 17/25, Loss: 1.8549559116363525\n",
            "Epoch 18/25, Loss: 1.8575329780578613\n",
            "Epoch 19/25, Loss: 1.8363332748413086\n",
            "Epoch 20/25, Loss: 1.858526587486267\n",
            "Epoch 21/25, Loss: 1.836240530014038\n",
            "Epoch 22/25, Loss: 1.8239543437957764\n",
            "Epoch 23/25, Loss: 1.8476288318634033\n",
            "Epoch 24/25, Loss: 1.845781683921814\n",
            "Epoch 25/25, Loss: 1.8406654596328735\n"
          ]
        },
        {
          "output_type": "display_data",
          "data": {
            "text/plain": [
              "<Figure size 640x480 with 1 Axes>"
            ],
            "image/png": "[encoded data removed]"
          },
          "metadata": {}
        }
      ]
    },
    {
      "cell_type": "markdown",
      "source": [
        "##Генерация текста\n",
        "\n",
        "*   Функция generate_sample принимает на вход модель RNN, начальную строку seed_phrase, максимальную длину генерируемого текста max_length и параметр температуры для контроля разнообразия генерируемого текста.\n",
        "*   Сначала начальная строка передается через модель, чтобы получить начальное скрытое состояние.\n",
        "*   Затем модель генерирует последовательность символов на основе начальной строки и своего внутреннего состояния.\n",
        "*   Для каждого символа выбирается следующий символ на основе распределения вероятностей, полученного от модели.\n",
        "*   Сгенерированный текст включает в себя начальную строку и последующие символы, сгенерированные моделью."
      ],
      "metadata": {
        "id": "loZroE3viCZ-"
      }
    },
    {
      "cell_type": "code",
      "source": [
        "def generate_sample(char_rnn, seed_phrase=' hello', max_length=100, temperature=1.0):\n",
        "    x_sequence = [char_to_id[token] for token in seed_phrase]\n",
        "    x_sequence = torch.tensor([x_sequence], dtype=torch.int64)\n",
        "    hid_state = char_rnn.initial_state(batch_size=1)\n",
        "\n",
        "    # Feed the seed phrase, if any\n",
        "    for i in range(len(seed_phrase) - 1):\n",
        "        out, hid_state = char_rnn(x_sequence[:, i:i+1], hid_state)\n",
        "\n",
        "    # Start generating\n",
        "    generated_text = seed_phrase\n",
        "    for _ in range(max_length - len(seed_phrase)):\n",
        "        out, hid_state = char_rnn(x_sequence[:, -1:], hid_state)\n",
        "        p_next = F.softmax(out[:, -1, :] / temperature, dim=-1).data.numpy()[0]\n",
        "        next_ix = np.random.choice(len(vocab), p=p_next)\n",
        "        next_char = id_to_char[next_ix]\n",
        "        generated_text += next_char\n",
        "        x_sequence = torch.cat([x_sequence, torch.tensor([[next_ix]], dtype=torch.int64)], dim=1)\n",
        "\n",
        "    return generated_text\n"
      ],
      "metadata": {
        "id": "ExxQd4SyRuBC"
      },
      "execution_count": null,
      "outputs": []
    },
    {
      "cell_type": "code",
      "source": [
        "# Пример генерации текста\n",
        "print(generate_sample(model, seed_phrase=\"shall i compare thee to a summer\", max_length=400, temperature=0.5))"
      ],
      "metadata": {
        "colab": {
          "base_uri": "https://localhost:8080/"
        },
        "id": "QbF9ZHuEUavV",
        "outputId": "35af19bf-a219-455a-88a4-e2c868e8ca51"
      },
      "execution_count": null,
      "outputs": [
        {
          "output_type": "stream",
          "name": "stdout",
          "text": [
            "shall i compare thee to a summer even thou wive the sumance, then mile entered thee, and i beant and fenter the starses some ast thy have my knower still of shood the weruee or word some will heart ot she verene stell still my buther the sine in the thee not this sear'd,\n",
            "  and my love she for thy say it doth sore shound on seed well viet;\n",
            "  which leade but sease,\n",
            "  shall still oaveness sim the ald\n"
          ]
        }
      ]
    },
    {
      "cell_type": "markdown",
      "source": [
        "#**LSTM**"
      ],
      "metadata": {
        "id": "Ga3zzTiIdn3X"
      }
    },
    {
      "cell_type": "markdown",
      "source": [
        "##Класс LSTM модели\n",
        "\n",
        "*   Этот класс CharLSTM является нашей LSTM моделью. Он наследует функциональность PyTorch nn.Module.\n",
        "*   В методе __init__ определяются все слои модели и их параметры.\n",
        "*   В методе forward определяется процесс прямого прохода через модель.\n",
        "\n",
        "##Инициализация начального состояния\n",
        "\n",
        "*   Метод initial_state используется для инициализации скрытого состояния модели перед началом обучения.\n",
        "\n",
        "##Обучение модели LSTM\n",
        "\n",
        "*   Используем оптимизатор Adam для обновления параметров модели в процессе обучения.\n",
        "*   Функция потерь CrossEntropyLoss используется для оценки ошибки между предсказаниями модели и истинными значениями.\n",
        "\n",
        "##Генерация батчей для обучения\n",
        "\n",
        "*   Используем функцию get_batches, чтобы сформировать батчи данных для обучения модели.\n",
        "*   Каждый батч содержит последовательности символов заданной длины.\n",
        "\n",
        "##Генерация текста с использованием модели LSTM\n",
        "\n",
        "*   Функция generate_sample_lstm используется для генерации текста с помощью обученной LSTM модели.\n",
        "*   Модель принимает начальную фразу и генерирует последовательность символов."
      ],
      "metadata": {
        "id": "zEUcY5bxosin"
      }
    },
    {
      "cell_type": "code",
      "source": [
        "# Класс LSTM модели\n",
        "class CharLSTM(nn.Module):\n",
        "    def __init__(self, vocab_size, embedding_dim, hidden_dim, n_layers=1, dropout=0.5):\n",
        "        super(CharLSTM, self).__init__()\n",
        "        self.hidden_dim = hidden_dim\n",
        "        self.n_layers = n_layers\n",
        "\n",
        "        self.embedding = nn.Embedding(vocab_size, embedding_dim)\n",
        "        self.lstm = nn.LSTM(embedding_dim, hidden_dim, n_layers, batch_first=True, dropout=dropout)\n",
        "        self.fc = nn.Linear(hidden_dim, vocab_size)\n",
        "        self.dropout = nn.Dropout(p=dropout)\n",
        "\n",
        "    def forward(self, x, hidden):\n",
        "        x = self.embedding(x)\n",
        "        out, hidden = self.lstm(x, hidden)\n",
        "        out = self.dropout(out)\n",
        "        out = self.fc(out)\n",
        "        return out, hidden\n",
        "\n",
        "    def initial_state(self, batch_size):\n",
        "        return (torch.zeros(self.n_layers, batch_size, self.hidden_dim),\n",
        "                torch.zeros(self.n_layers, batch_size, self.hidden_dim))\n",
        "\n",
        "# Параметры модели LSTM\n",
        "vocab = sorted(set(text))\n",
        "vocab_size = len(vocab)\n",
        "embedding_dim = 64\n",
        "hidden_dim = 256\n",
        "n_layers = 2\n",
        "dropout = 0.5  # Значение dropout\n",
        "\n",
        "# Создание модели LSTM\n",
        "lstm_model = CharLSTM(vocab_size, embedding_dim, hidden_dim, n_layers, dropout)\n",
        "lstm_optimizer = optim.Adam(lstm_model.parameters(), lr=0.0005)\n",
        "lstm_criterion = nn.CrossEntropyLoss()\n",
        "\n",
        "# Подготовка данных\n",
        "char_to_id = {char: idx for idx, char in enumerate(vocab)}\n",
        "id_to_char = {idx: char for idx, char in enumerate(vocab)}\n",
        "encoded_text = np.array([char_to_id[char] for char in text])\n",
        "\n",
        "# Параметры обучения\n",
        "SEQ_LENGTH = 100\n",
        "BATCH_SIZE = 64\n",
        "EPOCHS = 25\n",
        "\n",
        "# Генерация батчей\n",
        "def get_batches(encoded, batch_size, seq_length):\n",
        "    total_length = len(encoded) // (batch_size * seq_length)\n",
        "    encoded = encoded[:total_length * batch_size * seq_length]\n",
        "    encoded = encoded.reshape((batch_size, -1))\n",
        "    for i in range(0, encoded.shape[1], seq_length):\n",
        "        x = encoded[:, i:i+seq_length]\n",
        "        y = np.zeros_like(x)\n",
        "        y[:, :-1], y[:, -1] = x[:, 1:], x[:, 0]\n",
        "        yield torch.tensor(x, dtype=torch.long), torch.tensor(y, dtype=torch.long)\n",
        "\n",
        "# Обучение модели LSTM\n",
        "losses = []\n",
        "for epoch in range(EPOCHS):\n",
        "    state = lstm_model.initial_state(BATCH_SIZE)\n",
        "    for x, y in get_batches(encoded_text, BATCH_SIZE, SEQ_LENGTH):\n",
        "        lstm_optimizer.zero_grad()\n",
        "        y_pred, state = lstm_model(x, state)\n",
        "        loss = lstm_criterion(y_pred.transpose(1, 2), y)\n",
        "        state = (state[0].detach(), state[1].detach())\n",
        "        loss.backward()\n",
        "        lstm_optimizer.step()\n",
        "        losses.append(loss.item())\n",
        "    print(f'Epoch {epoch+1}/{EPOCHS}, Loss: {loss.item()}')\n",
        "\n",
        "# Построение графика функции потерь\n",
        "plt.plot(losses)\n",
        "plt.xlabel('Iterations')\n",
        "plt.ylabel('Loss')\n",
        "plt.show()\n",
        "\n",
        "# Функция генерации текста с LSTM моделью\n",
        "def generate_sample_lstm(char_lstm, seed_phrase=' hello', max_length=100, temperature=1.0):\n",
        "    x_sequence = [char_to_id[token] for token in seed_phrase]\n",
        "    x_sequence = torch.tensor([x_sequence], dtype=torch.int64)\n",
        "    hid_state = char_lstm.initial_state(batch_size=1)\n",
        "\n",
        "    # Пропуск начальной строки через модель\n",
        "    for i in range(len(seed_phrase) - 1):\n",
        "        out, hid_state = char_lstm(x_sequence[:, i:i+1], hid_state)\n",
        "\n",
        "    # Генерация текста\n",
        "    generated_text = seed_phrase\n",
        "    for _ in range(max_length - len(seed_phrase)):\n",
        "        out, hid_state = char_lstm(x_sequence[:, -1:], hid_state)\n",
        "        p_next = F.softmax(out[:, -1, :] / temperature, dim=-1).data.numpy()[0]\n",
        "        next_ix = np.random.choice(len(vocab), p=p_next)\n",
        "        next_char = id_to_char[next_ix]\n",
        "        generated_text += next_char\n",
        "        x_sequence = torch.cat([x_sequence, torch.tensor([[next_ix]], dtype=torch.int64)], dim=1)\n",
        "\n",
        "    return generated_text\n",
        "\n",
        "# Пример генерации текста с LSTM моделью с различными параметрами температуры\n",
        "temperatures = [0.1, 0.2, 0.5, 1.0, 2.0]\n",
        "for temp in temperatures:\n",
        "    print(f\"Temperature: {temp}\")\n",
        "    print(generate_sample_lstm(lstm_model, seed_phrase=' shall i compare thee to a summer', max_length=200, temperature=temp))\n",
        "    print()"
      ],
      "metadata": {
        "colab": {
          "base_uri": "https://localhost:8080/",
          "height": 1000
        },
        "id": "saAUhLuclyPh",
        "outputId": "701393f3-9b7d-42e7-cf12-e95d69b3ed82"
      },
      "execution_count": null,
      "outputs": [
        {
          "output_type": "stream",
          "name": "stdout",
          "text": [
            "Epoch 1/25, Loss: 3.0825819969177246\n",
            "Epoch 2/25, Loss: 2.960822820663452\n",
            "Epoch 3/25, Loss: 2.8539113998413086\n",
            "Epoch 4/25, Loss: 2.7373456954956055\n",
            "Epoch 5/25, Loss: 2.6032803058624268\n",
            "Epoch 6/25, Loss: 2.4924874305725098\n",
            "Epoch 7/25, Loss: 2.394973039627075\n",
            "Epoch 8/25, Loss: 2.324755907058716\n",
            "Epoch 9/25, Loss: 2.266174554824829\n",
            "Epoch 10/25, Loss: 2.215895175933838\n",
            "Epoch 11/25, Loss: 2.166020631790161\n",
            "Epoch 12/25, Loss: 2.1362202167510986\n",
            "Epoch 13/25, Loss: 2.0968315601348877\n",
            "Epoch 14/25, Loss: 2.0646538734436035\n",
            "Epoch 15/25, Loss: 2.034968376159668\n",
            "Epoch 16/25, Loss: 1.9968184232711792\n",
            "Epoch 17/25, Loss: 1.975220799446106\n",
            "Epoch 18/25, Loss: 1.956009030342102\n",
            "Epoch 19/25, Loss: 1.945655107498169\n",
            "Epoch 20/25, Loss: 1.9243414402008057\n",
            "Epoch 21/25, Loss: 1.8980141878128052\n",
            "Epoch 22/25, Loss: 1.883205771446228\n",
            "Epoch 23/25, Loss: 1.876516580581665\n",
            "Epoch 24/25, Loss: 1.8634066581726074\n",
            "Epoch 25/25, Loss: 1.845587134361267\n"
          ]
        },
        {
          "output_type": "display_data",
          "data": {
            "text/plain": [
              "<Figure size 640x480 with 1 Axes>"
            ],
            "image/png": "[encoded data removed]"
          },
          "metadata": {}
        },
        {
          "output_type": "stream",
          "name": "stdout",
          "text": [
            "Temperature: 0.1\n",
            " shall i compare thee to a summer\n",
            "  though the that shate the the preast thy word,\n",
            "  the sore thou stell and the sore and so graes,\n",
            "    thou the the stall the stell i the the shace,\n",
            "  and theud the th\n",
            "\n",
            "Temperature: 0.2\n",
            " shall i compare thee to a summer,\n",
            "  the some the so the so mains of the deart,\n",
            "  and the the thou frow the heart the dost the sers,\n",
            "    the the hare then thee with the thee she worth the sear,\n",
            "  what\n",
            "\n",
            "Temperature: 0.5\n",
            " shall i compare thee to a summer,\n",
            "  me con the thing still my i fors shath shate the me,\n",
            "  whore the ploak is in oun hach deel;\n",
            "  do this finger the fails thou well so ave my feare,\n",
            "  when the beant \n",
            "\n",
            "Temperature: 1.0\n",
            " shall i compare thee to a summer,\n",
            "  not tater dego core shy on to my mue.\n",
            "\n",
            "  whiog , it yo's, wom proving then hinl, in dean akvot. thearmed.\n",
            "  so cevan my so wrom tite, eipes lenk,il thught po hif m\n",
            "\n",
            "Temperature: 2.0\n",
            " shall i compare thee to a summer\n",
            ",g e,; xorpi'uit,\n",
            "  urepufigo! ! tenm-buoh(,\n",
            "  ruth besircapspeocnating to fiviudb;\n",
            " bt,. hel muthasrdue s! !n, lobe:uw,uanwch fromh,iger gwocl;\n",
            "   noh.t houmwveudnw'\n",
            "\n"
          ]
        }
      ]
    },
    {
      "cell_type": "markdown",
      "source": [
        "#**Результат**"
      ],
      "metadata": {
        "id": "_K2mo1NMr0nl"
      }
    },
    {
      "cell_type": "markdown",
      "source": [
        "Результат обучения на **RNN**:\n",
        "\n",
        "Сгенерированный текст имеет некоторый смысл, но присутствует большое количество орфографических и грамматических ошибок.\n",
        "Последовательности слов не всегда связаны между собой логически.\n",
        "Возможно, что RNN не смогла полностью захватить структуру и зависимости в тексте для генерации качественного текста.\n",
        "\n",
        "Результат обучения на **LSTM**:\n",
        "\n",
        "Сгенерированный текст более грамотный и логичный по сравнению с результатом RNN.\n",
        "LSTM улавливает более длинные зависимости в тексте благодаря своей архитектуре с долгой краткосрочной памятью (LSTM).\n",
        "При этом, следует отметить что при увеличении температуры генерация текста ухудшается и \"ломается\". Это может быть связано с потерей связности, т.е. вероятность всех символов становится более равномерной, что ведет к выбору моделью случайных символов без учета контекста."
      ],
      "metadata": {
        "id": "iyrhPYABr-Kf"
      }
    },
    {
      "cell_type": "markdown",
      "source": [
        "**Сохранение и загрузка модели:**"
      ],
      "metadata": {
        "id": "JNFzCw76uEvv"
      }
    },
    {
      "cell_type": "code",
      "source": [
        "# Сохранение модели и оптимизатора\n",
        "checkpoint = {\n",
        "    'model_state_dict': lstm_model.state_dict(),\n",
        "    'optimizer_state_dict': lstm_optimizer.state_dict()\n",
        "}\n",
        "torch.save(checkpoint, 'lstm_model.pth')\n",
        "\n",
        "# Загрузка модели и оптимизатора\n",
        "checkpoint = torch.load('lstm_model.pth')\n",
        "lstm_model.load_state_dict(checkpoint['model_state_dict'])\n",
        "lstm_optimizer.load_state_dict(checkpoint['optimizer_state_dict'])\n",
        "lstm_model.eval()"
      ],
      "metadata": {
        "colab": {
          "base_uri": "https://localhost:8080/"
        },
        "id": "UxKUJPDQuFH3",
        "outputId": "f8ed2603-f67e-4c77-9f59-19143d3a2548"
      },
      "execution_count": null,
      "outputs": [
        {
          "output_type": "execute_result",
          "data": {
            "text/plain": [
              "CharLSTM(\n",
              "  (embedding): Embedding(38, 64)\n",
              "  (lstm): LSTM(64, 256, num_layers=2, batch_first=True, dropout=0.5)\n",
              "  (fc): Linear(in_features=256, out_features=38, bias=True)\n",
              "  (dropout): Dropout(p=0.5, inplace=False)\n",
              ")"
            ]
          },
          "metadata": {},
          "execution_count": 27
        }
      ]
    }
  ]
}